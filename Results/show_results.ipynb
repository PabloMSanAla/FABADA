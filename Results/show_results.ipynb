{
 "cells": [
  {
   "cell_type": "markdown",
   "metadata": {},
   "source": [
    "# Fully Adaptive Bayesian Algorithm for Data Analysis\n",
    "# FABADA"
   ]
  },
  {
   "cell_type": "markdown",
   "metadata": {},
   "source": [
    "In this notebook we show the different results obtain in the article *Sanchez-Alarcon & Ascasibar 2022*. "
   ]
  },
  {
   "cell_type": "markdown",
   "metadata": {},
   "source": [
    "### 2 DIMENSION GRAY IMAGES"
   ]
  },
  {
   "cell_type": "code",
   "execution_count": 2,
   "metadata": {},
   "outputs": [],
   "source": [
    "import numpy as np \n",
    "import matplotlib.pyplot as plt\n",
    "from matplotlib.colors import LogNorm\n",
    "from PIL import Image\n",
    "from urllib.request import urlopen\n",
    "from ipywidgets import widgets, interactive, HBox\n",
    "import pandas as pd\n",
    "import os\n",
    "#%matplotlib widget"
   ]
  },
  {
   "cell_type": "code",
   "execution_count": 7,
   "metadata": {},
   "outputs": [
    {
     "data": {
      "application/vnd.jupyter.widget-view+json": {
       "model_id": "b49f74da3f4f4152bceda4180c11e47f",
       "version_major": 2,
       "version_minor": 0
      },
      "text/plain": [
       "HBox(children=(Dropdown(description='Image Name:    ', options=('bubble', 'cluster', 'crab', 'eagle', 'galaxie…"
      ]
     },
     "metadata": {},
     "output_type": "display_data"
    },
    {
     "data": {
      "application/vnd.jupyter.widget-view+json": {
       "model_id": "bee98c18bddf4667a8decca8d3db7dde",
       "version_major": 2,
       "version_minor": 0
      },
      "text/plain": [
       "HBox(children=(FloatRangeSlider(value=(0.001, 255.0), continuous_update=False, description='Range (%):', max=2…"
      ]
     },
     "metadata": {},
     "output_type": "display_data"
    },
    {
     "data": {
      "application/vnd.jupyter.widget-view+json": {
       "model_id": "9efd3fc23161462baa666a93b024307e",
       "version_major": 2,
       "version_minor": 0
      },
      "text/plain": [
       "Output()"
      ]
     },
     "metadata": {},
     "output_type": "display_data"
    }
   ],
   "source": [
    "def PSNR(data,real,n=255):\n",
    "    data = np.array(data)\n",
    "    real = np.array(real)\n",
    "    MSE = np.sum((data-real)**2)/(data.size)\n",
    "    return 10*np.log10((n)**2 / MSE)\n",
    "\n",
    "image_names = widgets.Dropdown(\n",
    "    options=['bubble','cluster','crab','eagle','galaxies','ghost','saturn','stars'] ,\n",
    "    value='bubble',\n",
    "    description='{:15}'.format('Image Name:'),\n",
    ")\n",
    "\n",
    "method_names = widgets.Dropdown(\n",
    "    options=[('FABADA','fabada'),('BM3D','bm3d'),('Wiener Filter','wiener'),('Gaussian Filter','fft'),\n",
    "    ('Savitzky Golay Filter','sgf'),('Median Filter','median')],\n",
    "    value='fabada',\n",
    "    description='{:15}'.format('Method:'),\n",
    ")\n",
    "\n",
    "noise_level = widgets.Dropdown(\n",
    "    options=[5,10,15,25,40,60,95,125,200,255,400,510,765,1024],\n",
    "    value=5,\n",
    "    description='{:15}'.format('Noise level:'),\n",
    ")\n",
    "\n",
    "range_slide = widgets.FloatRangeSlider(\n",
    "    value=[0.001, 255],\n",
    "    min=0.001,\n",
    "    max=255.0,\n",
    "    step=0.1,\n",
    "    description='Range (%):',\n",
    "    disabled=False,\n",
    "    continuous_update=False,\n",
    "    orientation='horizontal',\n",
    "    readout=True,\n",
    "    readout_format='.1f',\n",
    ")\n",
    "\n",
    "scale = widgets.ToggleButtons(\n",
    "    options=['Linear', 'Log'],\n",
    "    description='Scale:',\n",
    "    disabled=False,\n",
    "    button_style='', # 'success', 'info', 'warning', 'danger' or ''\n",
    "#   tooltips=['Description of slow', 'Description of regular', 'Description of fast'],\n",
    "#     icons=['check'] * 3\n",
    ")\n",
    "def plotit(name, method,sigma,range,scale):\n",
    "    \n",
    "    github_path = 'https://raw.githubusercontent.com/PabloMSanAla/fabada/master/Results/'\n",
    "\n",
    "    original_name = os.path.join(github_path,'Results_images',name,name+\".png\")\n",
    "    noisy_name = os.path.join(github_path,'Results_images',name,name+'_'+'{:04d}'.format(sigma)+'_data.png')\n",
    "    estimation_name_1 = os.path.join(github_path,'Results_images',name,name+'_'+'{:04d}'.format(sigma)+'_'+method+\".png\")\n",
    "    methods_dict = {'fabada':'FABADA','bm3d':'BM3D','wiener':'Wiener Filter','fft':'Gaussian Filter',\n",
    "    'sgf':'Savitzky Golay Filter','median':'Median Filter'} \n",
    "\n",
    "    original_image = Image.open(urlopen(original_name)).convert('L')\n",
    "    noisy_image = Image.open(urlopen(noisy_name)).convert('L')\n",
    "    estimation_1 = Image.open(urlopen(estimation_name_1)).convert('L')\n",
    "    fig,ax = plt.subplots(1,3,figsize = (18,7),sharex=True,sharey=True)\n",
    "\n",
    "    if scale == 'Linear':\n",
    "        arg = {'vmin':range[0],'vmax':range[1]}\n",
    "    else:\n",
    "        arg = {'norm':LogNorm(vmin=range[0],vmax=range[1])}\n",
    "\n",
    "    ax[0].set_title(name+\" - Original\",fontsize=16)\n",
    "    im = ax[0].imshow(original_image,cmap=\"gray\",**arg)\n",
    "\n",
    "    ax[1].set_title('Noisy - {:2.2f} dB'.format(PSNR(original_image,noisy_image)),fontsize=16)\n",
    "    ax[1].imshow(noisy_image,cmap=\"gray\",**arg)\n",
    "\n",
    "    ax[2].set_title('{} - {:2.2f} dB'.format(methods_dict[method],PSNR(original_image,estimation_1)),fontsize=16)\n",
    "    ax[2].imshow(estimation_1,cmap=\"gray\",**arg)\n",
    "\n",
    "    ax[0].axis('off');ax[1].axis('off');ax[2].axis('off')\n",
    "    plt.tight_layout()\n",
    "    pos_bar = [0.1, 0.001, 0.8, 0.04]\n",
    "    cax = fig.add_axes(pos_bar)\n",
    "    fig.colorbar(im, cax=cax,orientation=\"horizontal\", pad=0.2)\n",
    "    cax.xaxis.set_ticks_position(\"bottom\")\n",
    "\n",
    "    plt.show()\n",
    "\n",
    "    \n",
    "\n",
    "\n",
    "#interactive(plotit, name=image_names, method=method_names, sigma=noise_level,range=range_slide,scale=scale)\n",
    "out = interactive(plotit, name=image_names, method=method_names, sigma=noise_level,range=range_slide,scale=scale)\n",
    "display(HBox(out.children[:-3]))#Show all controls\n",
    "display(HBox(out.children[-3:-1]))\n",
    "display(out.children[-1])#Show the output"
   ]
  },
  {
   "cell_type": "markdown",
   "metadata": {},
   "source": [
    "### 1 DIMENSION SPECTRA"
   ]
  },
  {
   "cell_type": "code",
   "execution_count": 6,
   "metadata": {},
   "outputs": [
    {
     "data": {
      "application/vnd.jupyter.widget-view+json": {
       "model_id": "f10011f94e8b47e0b8cb90f10538ed9a",
       "version_major": 2,
       "version_minor": 0
      },
      "text/plain": [
       "HBox(children=(Dropdown(description='Image Name:    ', options=('Arp256', 'Kurucz', 'SN132D'), value='Arp256')…"
      ]
     },
     "metadata": {},
     "output_type": "display_data"
    },
    {
     "data": {
      "application/vnd.jupyter.widget-view+json": {
       "model_id": "0b6cd79d608d498aa7c391403c16d04d",
       "version_major": 2,
       "version_minor": 0
      },
      "text/plain": [
       "HBox(children=(ToggleButtons(description='Scale:', options=('Linear', 'Log'), value='Linear'),))"
      ]
     },
     "metadata": {},
     "output_type": "display_data"
    },
    {
     "data": {
      "application/vnd.jupyter.widget-view+json": {
       "model_id": "ec2f3c227f64473e8f3c1e4e1b05e0f7",
       "version_major": 2,
       "version_minor": 0
      },
      "text/plain": [
       "Output()"
      ]
     },
     "metadata": {},
     "output_type": "display_data"
    }
   ],
   "source": [
    "def PSNR(data,real,n=255):\n",
    "    data = np.array(data)\n",
    "    real = np.array(real)\n",
    "    MSE = np.sum((data-real)**2)/(data.size)\n",
    "    return 10*np.log10((n)**2 / MSE)\n",
    "\n",
    "image_names = widgets.Dropdown(\n",
    "    options=['Arp256','Kurucz','SN132D'] ,\n",
    "    value='Arp256',\n",
    "    description='{:15}'.format('Image Name:'),\n",
    ")\n",
    "\n",
    "method_names = widgets.Dropdown(\n",
    "    options=[('FABADA','FABADA'),('LOESS','LOESS'),('Wiener Filter','Wiener'),('Gaussian Filter','Gaussian'),\n",
    "    ('Savitzky Golay Filter','Savitzky–Golay'),('Median Filter','Median')],\n",
    "    value='FABADA',\n",
    "    description='{:15}'.format('Method:'),\n",
    ")\n",
    "\n",
    "noise_level = widgets.Dropdown(\n",
    "    options=np.arange(5,100,5),\n",
    "    value=5,\n",
    "    description='{:15}'.format('Noise level:'),\n",
    ")\n",
    "\n",
    "\n",
    "scale = widgets.ToggleButtons(\n",
    "    options=['Linear', 'Log'],\n",
    "    description='Scale:',\n",
    "    disabled=False,\n",
    "    button_style='', # 'success', 'info', 'warning', 'danger' or ''\n",
    "#   tooltips=['Description of slow', 'Description of regular', 'Description of fast'],\n",
    "#     icons=['check'] * 3\n",
    ")\n",
    "def plotit(name, method,sigma,scale):\n",
    "    \n",
    "    git_path = 'https://raw.githubusercontent.com/PabloMSanAla/fabada/master/Results/'\n",
    "    frame_path = os.path.join(git_path,'Results_spectra',name+'_'+'{:03d}.csv'.format(sigma))\n",
    "    methods_dict = {'FABADA':'FABADA','LOESS':'LOESS','Wiener':'Wiener Filter','Gaussian':'Gaussian Filter',\n",
    "    'Savitzky–Golay':'Savitzky Golay Filter','Median':'Median Filter'} \n",
    "\n",
    "    df = pd.read_csv(frame_path,delimiter=\",\")\n",
    "    estimation = df[method]\n",
    "    meassurements = df['Data']\n",
    "    signal = df['Real Signal']\n",
    "    \n",
    "    fig,ax = plt.subplots(1,1,figsize = (18,7),sharex=True,sharey=True)\n",
    "\n",
    "    ax.plot(signal,\"r-\",lw=1,alpha=0.3,label='Real Signal')\n",
    "    ax.plot(meassurements,\"k-\",alpha=.1,lw=1,label='{} - {:2.2f} dB'.format('Meassurements',PSNR(signal,meassurements)))\n",
    "    ax.plot(estimation,\"k-\",lw=1.1,label='{} - {:2.2f} dB'.format(methods_dict[method],PSNR(signal,estimation)))\n",
    "\n",
    "    ax.set_xlabel('Arbitrary Units',fontsize=15)\n",
    "    ax.set_ylabel('Arbitrary Units',fontsize=15)\n",
    "    if scale == 'Log':\n",
    "        ax.set_yscale('log')\n",
    "        plt.ylim([0.1,255])\n",
    "    plt.tight_layout()\n",
    "    plt.legend(fancybox=True,fontsize=15,ncol=3)\n",
    "\n",
    "    plt.show()\n",
    "\n",
    "    \n",
    "\n",
    "\n",
    "#interactive(plotit, name=image_names, method=method_names, sigma=noise_level,range=range_slide,scale=scale)\n",
    "out = interactive(plotit, name=image_names, method=method_names, sigma=noise_level,scale=scale)\n",
    "display(HBox(out.children[:-2]))#Show all controls\n",
    "display(HBox(out.children[-2:-1]))\n",
    "display(out.children[-1])#Show the output"
   ]
  },
  {
   "cell_type": "code",
   "execution_count": null,
   "metadata": {},
   "outputs": [],
   "source": []
  }
 ],
 "metadata": {
  "interpreter": {
   "hash": "53b67d7be21d7f89721bb74641fff2a73f66f66cb658e7c35382f7da335f06a7"
  },
  "kernelspec": {
   "display_name": "Python 3.8.8 64-bit ('base': conda)",
   "language": "python",
   "name": "python3"
  },
  "language_info": {
   "codemirror_mode": {
    "name": "ipython",
    "version": 3
   },
   "file_extension": ".py",
   "mimetype": "text/x-python",
   "name": "python",
   "nbconvert_exporter": "python",
   "pygments_lexer": "ipython3",
   "version": "3.8.8"
  },
  "orig_nbformat": 4
 },
 "nbformat": 4,
 "nbformat_minor": 2
}
