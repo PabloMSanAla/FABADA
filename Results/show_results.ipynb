{
 "cells": [
  {
   "cell_type": "markdown",
   "metadata": {},
   "source": [
    "# Fully Adaptive Bayesian Algorithm for Data Analysis\n",
    "# FABADA"
   ]
  },
  {
   "cell_type": "markdown",
   "metadata": {},
   "source": [
    "In this notebook we show the different results obtain in the article *Sanchez-Alarcon & Ascasibar 2022*. "
   ]
  },
  {
   "cell_type": "markdown",
   "metadata": {},
   "source": [
    "### 2 DIMENSION GRAY IMAGES"
   ]
  },
  {
   "cell_type": "code",
   "execution_count": 128,
   "metadata": {},
   "outputs": [],
   "source": [
    "import numpy as np \n",
    "import matplotlib.pyplot as plt\n",
    "from matplotlib.colors import LogNorm\n",
    "from PIL import Image\n",
    "from ipywidgets import widgets, interactive, HBox\n",
    "import pandas as pd\n",
    "import os\n",
    "#%matplotlib widget"
   ]
  },
  {
   "cell_type": "code",
   "execution_count": 157,
   "metadata": {},
   "outputs": [
    {
     "data": {
      "application/vnd.jupyter.widget-view+json": {
       "model_id": "35ac5044f11e4250a1bd02f2d5331872",
       "version_major": 2,
       "version_minor": 0
      },
      "text/plain": [
       "HBox(children=(Dropdown(description='Image Name:    ', options=('bubble', 'cluster', 'crab', 'eagle', 'galaxie…"
      ]
     },
     "metadata": {},
     "output_type": "display_data"
    },
    {
     "data": {
      "application/vnd.jupyter.widget-view+json": {
       "model_id": "bde31cf056154425a52fecb4bb0dd324",
       "version_major": 2,
       "version_minor": 0
      },
      "text/plain": [
       "HBox(children=(FloatRangeSlider(value=(0.001, 255.0), continuous_update=False, description='Range (%):', max=2…"
      ]
     },
     "metadata": {},
     "output_type": "display_data"
    },
    {
     "data": {
      "application/vnd.jupyter.widget-view+json": {
       "model_id": "9b881ebc1d9c4b7abbd6bd9b08e8187e",
       "version_major": 2,
       "version_minor": 0
      },
      "text/plain": [
       "Output()"
      ]
     },
     "metadata": {},
     "output_type": "display_data"
    }
   ],
   "source": [
    "def PSNR(data,real,n=255):\n",
    "    data = np.array(data)\n",
    "    real = np.array(real)\n",
    "    MSE = np.sum((data-real)**2)/(data.size)\n",
    "    return 10*np.log10((n)**2 / MSE)\n",
    "\n",
    "image_names = widgets.Dropdown(\n",
    "    options=['bubble','cluster','crab','eagle','galaxies','ghost','saturn','stars'] ,\n",
    "    value='bubble',\n",
    "    description='{:15}'.format('Image Name:'),\n",
    ")\n",
    "\n",
    "method_names = widgets.Dropdown(\n",
    "    options=[('FABADA','fabada'),('BM3D','bm3d'),('Wiener Filter','wiener'),('Gaussian Filter','fft'),\n",
    "    ('Savitzky Golay Filter','sgf'),('Median Filter','median')],\n",
    "    value='fabada',\n",
    "    description='{:15}'.format('Method:'),\n",
    ")\n",
    "\n",
    "noise_level = widgets.Dropdown(\n",
    "    options=[5,10,15,25,40,60,95,125,200,255,400,510,765,1024],\n",
    "    value=5,\n",
    "    description='{:15}'.format('Noise level:'),\n",
    ")\n",
    "\n",
    "range_slide = widgets.FloatRangeSlider(\n",
    "    value=[0.001, 255],\n",
    "    min=0.001,\n",
    "    max=255.0,\n",
    "    step=0.1,\n",
    "    description='Range (%):',\n",
    "    disabled=False,\n",
    "    continuous_update=False,\n",
    "    orientation='horizontal',\n",
    "    readout=True,\n",
    "    readout_format='.1f',\n",
    ")\n",
    "\n",
    "scale = widgets.ToggleButtons(\n",
    "    options=['Linear', 'Log'],\n",
    "    description='Scale:',\n",
    "    disabled=False,\n",
    "    button_style='', # 'success', 'info', 'warning', 'danger' or ''\n",
    "#   tooltips=['Description of slow', 'Description of regular', 'Description of fast'],\n",
    "#     icons=['check'] * 3\n",
    ")\n",
    "def plotit(name, method,sigma,range,scale):\n",
    "    \n",
    "    original_name = os.path.join(\"Results\",'Results_images',name,name+\".png\")\n",
    "    noisy_name = os.path.join('Results','Results_images',name,name+'_'+'{:04d}'.format(sigma)+'_data.png')\n",
    "    estimation_name_1 = os.path.join('Results','Results_images',name,name+'_'+'{:04d}'.format(sigma)+'_'+method+\".png\")\n",
    "    methods_dict = {'fabada':'FABADA','bm3d':'BM3D','wiener':'Wiener Filter','fft':'Gaussian Filter',\n",
    "    'sgf':'Savitzky Golay Filter','median':'Median Filter'} \n",
    "\n",
    "    original_image = Image.open(original_name).convert('L')\n",
    "    noisy_image = Image.open(noisy_name).convert('L')\n",
    "    estimation_1 = Image.open(estimation_name_1).convert('L')\n",
    "    fig,ax = plt.subplots(1,3,figsize = (18,7),sharex=True,sharey=True)\n",
    "\n",
    "    if scale == 'Linear':\n",
    "        arg = {'vmin':range[0],'vmax':range[1]}\n",
    "    else:\n",
    "        arg = {'norm':LogNorm(vmin=range[0],vmax=range[1])}\n",
    "\n",
    "    ax[0].set_title(name+\" - Original\",fontsize=16)\n",
    "    im = ax[0].imshow(original_image,cmap=\"gray\",**arg)\n",
    "\n",
    "    ax[1].set_title('Noisy - {:2.2f} dB'.format(PSNR(original_image,noisy_image)),fontsize=16)\n",
    "    ax[1].imshow(noisy_image,cmap=\"gray\",**arg)\n",
    "\n",
    "    ax[2].set_title('{} - {:2.2f} dB'.format(methods_dict[method],PSNR(original_image,estimation_1)),fontsize=16)\n",
    "    ax[2].imshow(estimation_1,cmap=\"gray\",**arg)\n",
    "\n",
    "    ax[0].axis('off');ax[1].axis('off');ax[2].axis('off')\n",
    "    plt.tight_layout()\n",
    "    pos_bar = [0.1, 0.001, 0.8, 0.04]\n",
    "    cax = fig.add_axes(pos_bar)\n",
    "    fig.colorbar(im, cax=cax,orientation=\"horizontal\", pad=0.2)\n",
    "    cax.xaxis.set_ticks_position(\"bottom\")\n",
    "\n",
    "    plt.show()\n",
    "\n",
    "    \n",
    "\n",
    "\n",
    "#interactive(plotit, name=image_names, method=method_names, sigma=noise_level,range=range_slide,scale=scale)\n",
    "out = interactive(plotit, name=image_names, method=method_names, sigma=noise_level,range=range_slide,scale=scale)\n",
    "display(HBox(out.children[:-3]))#Show all controls\n",
    "display(HBox(out.children[-3:-1]))\n",
    "display(out.children[-1])#Show the output"
   ]
  },
  {
   "cell_type": "markdown",
   "metadata": {},
   "source": [
    "### 1 DIMENSION SPECTRA"
   ]
  },
  {
   "cell_type": "code",
   "execution_count": 155,
   "metadata": {},
   "outputs": [
    {
     "data": {
      "application/vnd.jupyter.widget-view+json": {
       "model_id": "03930037681c4eb0871d947b926f6610",
       "version_major": 2,
       "version_minor": 0
      },
      "text/plain": [
       "HBox(children=(Dropdown(description='Image Name:    ', options=('Arp256', 'Kurucz', 'SN132D'), value='Arp256')…"
      ]
     },
     "metadata": {},
     "output_type": "display_data"
    },
    {
     "data": {
      "application/vnd.jupyter.widget-view+json": {
       "model_id": "bc6e9595c3704d5f8057502fbc9bb118",
       "version_major": 2,
       "version_minor": 0
      },
      "text/plain": [
       "HBox(children=(FloatRangeSlider(value=(0.001, 255.0), continuous_update=False, description='Range (%):', max=2…"
      ]
     },
     "metadata": {},
     "output_type": "display_data"
    },
    {
     "data": {
      "application/vnd.jupyter.widget-view+json": {
       "model_id": "57176347f3984a7084b52aca642df864",
       "version_major": 2,
       "version_minor": 0
      },
      "text/plain": [
       "Output()"
      ]
     },
     "metadata": {},
     "output_type": "display_data"
    }
   ],
   "source": [
    "def PSNR(data,real,n=255):\n",
    "    data = np.array(data)\n",
    "    real = np.array(real)\n",
    "    MSE = np.sum((data-real)**2)/(data.size)\n",
    "    return 10*np.log10((n)**2 / MSE)\n",
    "\n",
    "image_names = widgets.Dropdown(\n",
    "    options=['Arp256','Kurucz','SN132D'] ,\n",
    "    value='Arp256',\n",
    "    description='{:15}'.format('Image Name:'),\n",
    ")\n",
    "\n",
    "method_names = widgets.Dropdown(\n",
    "    options=[('FABADA','FABADA'),('LOESS','LOESS'),('Wiener Filter','Wiener'),('Gaussian Filter','Fourier Transform'),\n",
    "    ('Savitzky Golay Filter','Savitzky–Golay'),('Median Filter','Median')],\n",
    "    value='FABADA',\n",
    "    description='{:15}'.format('Method:'),\n",
    ")\n",
    "\n",
    "noise_level = widgets.Dropdown(\n",
    "    options=np.arange(5,100,5),\n",
    "    value=5,\n",
    "    description='{:15}'.format('Noise level:'),\n",
    ")\n",
    "\n",
    "range_slide = widgets.FloatRangeSlider(\n",
    "    value=[0.001, 255],\n",
    "    min=0.001,\n",
    "    max=255.0,\n",
    "    step=0.1,\n",
    "    description='Range (%):',\n",
    "    disabled=False,\n",
    "    continuous_update=False,\n",
    "    orientation='horizontal',\n",
    "    readout=True,\n",
    "    readout_format='.1f',\n",
    ")\n",
    "\n",
    "scale = widgets.ToggleButtons(\n",
    "    options=['Linear', 'Log'],\n",
    "    description='Scale:',\n",
    "    disabled=False,\n",
    "    button_style='', # 'success', 'info', 'warning', 'danger' or ''\n",
    "#   tooltips=['Description of slow', 'Description of regular', 'Description of fast'],\n",
    "#     icons=['check'] * 3\n",
    ")\n",
    "def plotit(name, method,sigma,range,scale):\n",
    "    \n",
    "    \n",
    "    frame_path = os.path.join('Results','Results_spectra',name,name+'_'+'{:03d}.csv'.format(sigma))\n",
    "    methods_dict = {'FABADA':'FABADA','LOESS':'LOESS','Wiener':'Wiener Filter','Fourier Transform':'Gaussian Filter',\n",
    "    'Savitzky–Golay':'Savitzky Golay Filter','Median':'Median Filter'} \n",
    "\n",
    "    df = pd.read_csv(frame_path,delimiter=\",\")\n",
    "    estimation = df[method]\n",
    "    \n",
    "\n",
    "    fig,ax = plt.subplots(1,1,figsize = (18,7),sharex=True,sharey=True)\n",
    "\n",
    "    if scale == 'Linear':\n",
    "        arg = {'vmin':range[0],'vmax':range[1]}\n",
    "    else:\n",
    "        arg = {'norm':LogNorm(vmin=range[0],vmax=range[1])}\n",
    "\n",
    "    \n",
    "    \n",
    "    \n",
    "    #ax.plot(noisy_image,cmap=\"gray\",**arg)\n",
    "\n",
    "    ax.plot(estimation,\"r-\",label='{} - {:2.2f} dB'.format(methods_dict[method],15.34))\n",
    "    ax.set_xlabel('Arbitrary Units',fontsize=15)\n",
    "    ax.set_ylabel('Arbitrary Units',fontsize=15)\n",
    "    plt.tight_layout()\n",
    "    plt.legend(fancybox=True,fontsize=15,ncol=3)\n",
    "\n",
    "    plt.show()\n",
    "\n",
    "    \n",
    "\n",
    "\n",
    "#interactive(plotit, name=image_names, method=method_names, sigma=noise_level,range=range_slide,scale=scale)\n",
    "out = interactive(plotit, name=image_names, method=method_names, sigma=noise_level,range=range_slide,scale=scale)\n",
    "display(HBox(out.children[:-3]))#Show all controls\n",
    "display(HBox(out.children[-3:-1]))\n",
    "display(out.children[-1])#Show the output"
   ]
  },
  {
   "cell_type": "code",
   "execution_count": 142,
   "metadata": {},
   "outputs": [
    {
     "data": {
      "text/plain": [
       "0     -2.575262\n",
       "1     -3.020788\n",
       "2     -2.465971\n",
       "3     -2.281697\n",
       "4     -2.753901\n",
       "         ...   \n",
       "965    0.635679\n",
       "966    0.675573\n",
       "967    1.694407\n",
       "968    1.367509\n",
       "969    2.511206\n",
       "Name: Wiener, Length: 970, dtype: float64"
      ]
     },
     "execution_count": 142,
     "metadata": {},
     "output_type": "execute_result"
    }
   ],
   "source": [
    "name='Kurucz'\n",
    "method='Wiener'\n",
    "sigma=5\n",
    "frame_path = os.path.join('Results','Results_spectra',name,name+'_'+'{:03d}.csv'.format(sigma))\n",
    "df = pd.read_csv(frame_path,delimiter=',')\n",
    "df[method]"
   ]
  },
  {
   "cell_type": "code",
   "execution_count": null,
   "metadata": {},
   "outputs": [],
   "source": []
  }
 ],
 "metadata": {
  "interpreter": {
   "hash": "53b67d7be21d7f89721bb74641fff2a73f66f66cb658e7c35382f7da335f06a7"
  },
  "kernelspec": {
   "display_name": "Python 3.8.8 64-bit ('base': conda)",
   "language": "python",
   "name": "python3"
  },
  "language_info": {
   "codemirror_mode": {
    "name": "ipython",
    "version": 3
   },
   "file_extension": ".py",
   "mimetype": "text/x-python",
   "name": "python",
   "nbconvert_exporter": "python",
   "pygments_lexer": "ipython3",
   "version": "3.8.8"
  },
  "orig_nbformat": 4
 },
 "nbformat": 4,
 "nbformat_minor": 2
}
